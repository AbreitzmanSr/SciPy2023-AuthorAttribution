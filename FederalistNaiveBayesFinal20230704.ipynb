{
 "cells": [
  {
   "cell_type": "markdown",
   "metadata": {},
   "source": [
    "### Do Naive Bayes on Federalist Papers to identify author of 12 Disputed Federalist Papers\n",
    "#### It's unlikely that Jay is an author of disputed papers, so build Naive Bayes model using only Hamilton and Madison papers\n",
    "#### Breitzman 5/16/2023"
   ]
  },
  {
   "cell_type": "code",
   "execution_count": 1,
   "metadata": {},
   "outputs": [],
   "source": [
    "import pickle\n",
    "#get Federalist papers previously stored in GutenbergFederalistPickle.ipynb\n",
    "with open('hamilton.pik', 'rb') as f:\n",
    "    hamilton = pickle.load(f)\n",
    "    \n",
    "with open('madison.pik', 'rb') as f:\n",
    "    madison = pickle.load(f)\n",
    "    \n",
    "with open('disputed.pik', 'rb') as f:\n",
    "    disputed = pickle.load(f)\n",
    "\n",
    "with open('joint.pik', 'rb') as f:\n",
    "    joint = pickle.load(f)"
   ]
  },
  {
   "cell_type": "code",
   "execution_count": 2,
   "metadata": {},
   "outputs": [
    {
     "name": "stdout",
     "output_type": "stream",
     "text": [
      "51 14 3 12\n"
     ]
    }
   ],
   "source": [
    "from nltk.tokenize import word_tokenize\n",
    "\n",
    "\n",
    "hamiltonDicts = [] #list of dictionaries containing word freq for each of Hamilton's Federalist Papers\n",
    "madisonDicts = []\n",
    "disputedDicts = []\n",
    "jointDicts = []\n",
    "\n",
    "def getDocDict(str1):\n",
    "#returns a dictonary containing frequencies of any word in string\n",
    "#e.g. str1 = 'quick brown fox is quick.'\n",
    "# returns {quick:2, brown:1, fox:1, is:1}\n",
    "  x = {}\n",
    "  words = word_tokenize(str1.lower().strip())\n",
    "  for b in words:\n",
    "        if b in x:\n",
    "            x[b]+=1\n",
    "        else:\n",
    "            x[b]=1\n",
    "  return(x)\n",
    "\n",
    "for a in hamilton:\n",
    "    hamiltonDicts.append(getDocDict(a[1][0]))\n",
    "    \n",
    "for a in madison:\n",
    "    madisonDicts.append(getDocDict(a[1][0]))\n",
    "    \n",
    "for a in joint:\n",
    "    jointDicts.append(getDocDict(a[1][0]))\n",
    "    \n",
    "for a in disputed:\n",
    "    disputedDicts.append(getDocDict(a[1][0]))\n",
    "    \n",
    "print(len(hamiltonDicts),len(madisonDicts),len(jointDicts),len(disputedDicts))"
   ]
  },
  {
   "cell_type": "code",
   "execution_count": 3,
   "metadata": {},
   "outputs": [
    {
     "name": "stdout",
     "output_type": "stream",
     "text": [
      "8492 3967\n"
     ]
    }
   ],
   "source": [
    "completeDict = {} #dictionary containing every word along with \n",
    "                  #documeny frequency \n",
    "                  #(e.g. # of fed papers containing word)\n",
    "\n",
    "kills = [',','.',\"''\",'',';','-',')','(']\n",
    "authDicts = [hamiltonDicts,madisonDicts,jointDicts,disputedDicts]\n",
    "for authDict in authDicts:\n",
    "  for a in authDict:\n",
    "    for x in a:\n",
    "        if (x not in kills):\n",
    "         if x in completeDict:\n",
    "            completeDict[x]+=1\n",
    "         else:\n",
    "            completeDict[x]=1\n",
    "            \n",
    "trimDict = set()  #subset of completeDict that contains useful words\n",
    "for a in completeDict:\n",
    "    x = completeDict[a]\n",
    "    if (x >= 3 and x < 80):\n",
    "        trimDict.add(a)\n",
    "        \n",
    "print(len(completeDict),len(trimDict))"
   ]
  },
  {
   "cell_type": "code",
   "execution_count": 4,
   "metadata": {},
   "outputs": [
    {
     "name": "stdout",
     "output_type": "stream",
     "text": [
      "64314 27766\n"
     ]
    }
   ],
   "source": [
    "#build Naive Bayes Dictionaries for Hamilton, Madison\n",
    "hamiltonNBwordDicts = {}\n",
    "madisonNBwordDicts = {}\n",
    "\n",
    "hamiltonNBdenom = madisonNBdenom = 0\n",
    "\n",
    "laplaceConst = 2\n",
    "for a in trimDict: #this is equivalent to Laplace Smoothing\n",
    "    hamiltonNBwordDicts[a] = madisonNBwordDicts[a] = laplaceConst\n",
    "    hamiltonNBdenom += laplaceConst\n",
    "    madisonNBdenom += laplaceConst\n",
    "    \n",
    "for dictionary in hamiltonDicts:\n",
    "    for word in dictionary:\n",
    "        if (word in trimDict):\n",
    "              hamiltonNBwordDicts[word]+=dictionary[word]\n",
    "              hamiltonNBdenom +=dictionary[word]\n",
    "            \n",
    "for dictionary in madisonDicts:\n",
    "    for word in dictionary:\n",
    "        if (word in trimDict):\n",
    "              madisonNBwordDicts[word]+=dictionary[word]\n",
    "              madisonNBdenom += dictionary[word]\n",
    "\n",
    "    \n",
    "print(hamiltonNBdenom,madisonNBdenom)"
   ]
  },
  {
   "cell_type": "code",
   "execution_count": 5,
   "metadata": {},
   "outputs": [
    {
     "name": "stdout",
     "output_type": "stream",
     "text": [
      "3967 3967 3967\n"
     ]
    }
   ],
   "source": [
    "print(len(hamiltonNBwordDicts),len(madisonNBwordDicts),len(trimDict))"
   ]
  },
  {
   "cell_type": "code",
   "execution_count": 6,
   "metadata": {},
   "outputs": [
    {
     "name": "stdout",
     "output_type": "stream",
     "text": [
      "watch 2 2\n",
      "prompted 2 2\n",
      "septennial 2 2\n",
      "entering 2 2\n",
      "abbe 2 2\n"
     ]
    }
   ],
   "source": [
    "for a in hamiltonNBwordDicts:\n",
    "    if (hamiltonNBwordDicts[a]<=2 and madisonNBwordDicts[a]<=2):\n",
    "        print(a,hamiltonNBwordDicts[a],madisonNBwordDicts[a])"
   ]
  },
  {
   "cell_type": "code",
   "execution_count": 7,
   "metadata": {},
   "outputs": [
    {
     "data": {
      "text/plain": [
       "374"
      ]
     },
     "execution_count": 7,
     "metadata": {},
     "output_type": "execute_result"
    }
   ],
   "source": [
    "hamiltonNBwordDicts['upon']"
   ]
  },
  {
   "cell_type": "code",
   "execution_count": 8,
   "metadata": {},
   "outputs": [
    {
     "data": {
      "text/plain": [
       "9"
      ]
     },
     "execution_count": 8,
     "metadata": {},
     "output_type": "execute_result"
    }
   ],
   "source": [
    "madisonNBwordDicts['upon']"
   ]
  },
  {
   "cell_type": "code",
   "execution_count": 9,
   "metadata": {},
   "outputs": [
    {
     "name": "stdout",
     "output_type": "stream",
     "text": [
      "64314 27766\n"
     ]
    }
   ],
   "source": [
    "\n",
    "    \n",
    "print(hamiltonNBdenom,madisonNBdenom)"
   ]
  },
  {
   "cell_type": "code",
   "execution_count": 10,
   "metadata": {},
   "outputs": [
    {
     "name": "stdout",
     "output_type": "stream",
     "text": [
      "3967 1452\n"
     ]
    }
   ],
   "source": [
    "vocab = set()\n",
    "for word in (trimDict):\n",
    "      if (not (hamiltonNBwordDicts[word]/hamiltonNBdenom < .0002 and\n",
    "          madisonNBwordDicts[word]/madisonNBdenom < .0002)):\n",
    "          vocab.add(word)\n",
    "      \n",
    "\n",
    "print(len(trimDict),len(vocab))"
   ]
  },
  {
   "cell_type": "code",
   "execution_count": 11,
   "metadata": {},
   "outputs": [
    {
     "name": "stdout",
     "output_type": "stream",
     "text": [
      "% correct: 100.0\n"
     ]
    }
   ],
   "source": [
    "import math\n",
    "#given a document return 'hamilton' if NaiveBayes prob \n",
    "#suggests Hamilton authored it. similarly return \n",
    "#'madison' if he is the likely author\n",
    "def NB_federalist_predict(docDict,vocab1=trimDict):\n",
    "  h_pr = m_pr = 0\n",
    "  for word in docDict:\n",
    "    if (word in vocab1):\n",
    "        h_pr += float(docDict[word])*(math.log(\n",
    "           hamiltonNBwordDicts[word]/hamiltonNBdenom))\n",
    "        m_pr += float(docDict[word])*(math.log(\n",
    "           madisonNBwordDicts[word]/madisonNBdenom))\n",
    "        \n",
    "  if (h_pr > m_pr):\n",
    "         return('hamilton')\n",
    "  else:\n",
    "         return('madison')\n",
    "    \n",
    "def check_accuracy(vocab1=trimDict):\n",
    "    right = wrong = 0\n",
    "    for a in hamiltonDicts:\n",
    "        if NB_federalist_predict(a,vocab1)=='hamilton':\n",
    "            right+=1\n",
    "        else:\n",
    "            wrong+=1\n",
    "\n",
    "    for a in madisonDicts:\n",
    "        if NB_federalist_predict(a,vocab1)=='madison':\n",
    "            right+=1\n",
    "        else:\n",
    "            wrong+=1\n",
    "    return([100*right/(right+wrong),right,wrong])\n",
    "    \n",
    "print('% correct:',check_accuracy()[0])"
   ]
  },
  {
   "cell_type": "code",
   "execution_count": 12,
   "metadata": {},
   "outputs": [
    {
     "data": {
      "text/plain": [
       "[100.0, 65, 0]"
      ]
     },
     "execution_count": 12,
     "metadata": {},
     "output_type": "execute_result"
    }
   ],
   "source": [
    "check_accuracy()"
   ]
  },
  {
   "cell_type": "code",
   "execution_count": 13,
   "metadata": {},
   "outputs": [
    {
     "name": "stdout",
     "output_type": "stream",
     "text": [
      "FavoriteWord      Madison Pr/Hamilton Pr    Hamilton Pr/Madison Pr\n",
      "--------------  ------------------------  ------------------------\n",
      "enough                         0.132359                  7.5552\n",
      "compilers                      5.79072                   0.17269\n",
      "reform                        10.4233                    0.095939\n",
      "recommended                    6.17676                   0.161897\n",
      "indebted                       5.79072                   0.17269\n",
      "stamped                        6.94886                   0.143909\n",
      "complied                       5.79072                   0.17269\n",
      "novelty                        5.79072                   0.17269\n",
      "administering                  6.94886                   0.143909\n",
      "universally                    5.79072                   0.17269\n",
      "pronounced                     5.40467                   0.185025\n",
      "term                           7.87537                   0.126978\n",
      "speedy                         5.79072                   0.17269\n",
      "obviated                       5.79072                   0.17269\n",
      "residence                      6.17676                   0.161897\n",
      "intended                       0.125205                  7.98692\n",
      "bind                           5.79072                   0.17269\n",
      "eyes                           5.40467                   0.185025\n",
      "disregarded                    5.79072                   0.17269\n",
      "democratic                     5.79072                   0.17269\n",
      "enumeration                    5.01862                   0.199258\n",
      "pointing                       5.79072                   0.17269\n",
      "function                       5.79072                   0.17269\n",
      "matter                         0.193024                  5.18071\n",
      "cantons                        5.79072                   0.17269\n",
      "commonly                       0.193024                  5.18071\n",
      "relief                         6.94886                   0.143909\n",
      "intermixed                     5.79072                   0.17269\n",
      "including                      5.79072                   0.17269\n",
      "sphere                         7.72095                   0.129518\n",
      "inconveniency                  5.79072                   0.17269\n",
      "jury                           0.160853                  6.21685\n",
      "obscurity                      5.40467                   0.185025\n",
      "courts                         0.118784                  8.41865\n",
      "upon                           0.0557395                17.9406\n",
      "lesser                         5.21164                   0.191878\n",
      "derives                        5.79072                   0.17269\n",
      "involves                       6.94886                   0.143909\n",
      "community                      0.130495                  7.66313\n",
      "--                             0.168457                  5.93623\n",
      "crushed                        5.79072                   0.17269\n",
      "precision                      5.79072                   0.17269\n",
      "nomination                     0.193024                  5.18071\n",
      "patriotic                      5.79072                   0.17269\n",
      "1.                             8.107                     0.12335\n",
      "whilst                        10.8093                    0.0925126\n",
      "2.                             5.79072                   0.17269\n",
      "respectively                   6.17676                   0.161897\n",
      "chain                          6.94886                   0.143909\n",
      "consequently                   5.40467                   0.185025\n",
      "confederation                  5.28113                   0.189353\n",
      "unanimous                      8.107                     0.12335\n",
      "surely                         5.79072                   0.17269\n",
      "composing                     10.0372                    0.099629\n",
      "alloy                          6.94886                   0.143909\n",
      "indirectly                     9.26514                   0.107931\n",
      "while                          0.12191                   8.20279\n",
      "coin                           9.84422                   0.101582\n",
      "works                          5.79072                   0.17269\n",
      "slaves                         5.79072                   0.17269\n",
      "enlarge                        8.107                     0.12335\n",
      "readily                        0.178176                  5.61243\n",
      "although                       6.94886                   0.143909\n",
      "department                     6.39736                   0.156314\n",
      "indispensably                  6.94886                   0.143909\n",
      "dishonorable                   5.79072                   0.17269\n",
      "democracy                     13.8977                    0.0719543\n",
      "drawing                        5.79072                   0.17269\n",
      "annually                       5.79072                   0.17269\n",
      "violating                      6.94886                   0.143909\n",
      "assumed                       10.4233                    0.095939\n",
      "transferred                    5.79072                   0.17269\n",
      "kind                           0.0890879                11.2249\n"
     ]
    }
   ],
   "source": [
    "interesting = []\n",
    "tableData = []\n",
    "j = 0\n",
    "for i,a in enumerate(trimDict):\n",
    "    h1 = hamiltonNBwordDicts[a]/hamiltonNBdenom\n",
    "    m1 = madisonNBwordDicts[a]/madisonNBdenom\n",
    "    if (m1/h1 > 5 or h1/m1 > 5):\n",
    "      interesting.append(a)\n",
    "      if (j < 225):\n",
    "         tableData.append([a,m1/h1,h1/m1])\n",
    "         j+=1\n",
    "        \n",
    "from tabulate import tabulate\n",
    "print (tabulate(tableData, headers=[\"FavoriteWord\",\"Madison Pr/Hamilton Pr\", \"Hamilton Pr/Madison Pr\"]))"
   ]
  },
  {
   "cell_type": "code",
   "execution_count": 14,
   "metadata": {},
   "outputs": [],
   "source": [
    "small10 = ['upon','on','very','natural','concurrent']"
   ]
  },
  {
   "cell_type": "code",
   "execution_count": 15,
   "metadata": {},
   "outputs": [],
   "source": [
    "small11 = ['upon','against','whilst','inhabitants','dismission','within']"
   ]
  },
  {
   "cell_type": "code",
   "execution_count": 16,
   "metadata": {},
   "outputs": [],
   "source": [
    "smallVocab2 = ['obviated','patriotic','lesser','composing','although','whilst','consequently','nomination','enough','while','inconveniency','sphere','upon']"
   ]
  },
  {
   "cell_type": "code",
   "execution_count": 17,
   "metadata": {},
   "outputs": [
    {
     "name": "stdout",
     "output_type": "stream",
     "text": [
      "['enough', 'compilers', 'reform', 'recommended', 'indebted', 'stamped', 'complied', 'novelty', 'administering', '...']\n",
      "100.0% accuracy\n",
      "disputed papers: madison:12, hamilton:0\n",
      "\n",
      "['although', 'composing', 'involves', 'confederation', 'upon']\n",
      "100.0% accuracy\n",
      "disputed papers: madison:12, hamilton:0\n",
      "\n",
      "['although', 'obviated', 'composing', 'whilst', 'consequently', 'upon']\n",
      "96.92307692307692% accuracy\n",
      "disputed papers: madison:12, hamilton:0\n",
      "\n",
      "['against', 'within', 'inhabitants', 'whilst', 'powers', 'upon', 'while']\n",
      "100.0% accuracy\n",
      "disputed papers: madison:12, hamilton:0\n",
      "\n",
      "['against', 'upon', 'whilst', 'inhabitants', 'within']\n",
      "96.92307692307692% accuracy\n",
      "disputed papers: madison:12, hamilton:0\n",
      "\n",
      "['against', 'within', 'inhabitants', 'whilst', 'upon']\n",
      "96.92307692307692% accuracy\n",
      "disputed papers: madison:12, hamilton:0\n",
      "\n",
      "['against', 'while', 'whilst', 'upon', 'on']\n",
      "96.92307692307692% accuracy\n",
      "disputed papers: madison:12, hamilton:0\n",
      "\n",
      "['concurrent', 'upon', 'on', 'very', 'natural']\n",
      "98.46153846153847% accuracy\n",
      "disputed papers: madison:12, hamilton:0\n",
      "\n",
      "['while', 'upon', 'on', 'inconveniency']\n",
      "95.38461538461539% accuracy\n",
      "disputed papers: madison:12, hamilton:0\n",
      "\n"
     ]
    }
   ],
   "source": [
    "\n",
    "#the following checks accuracy on the training set and then\n",
    "#identifies how many of the disputed papers are by each author\n",
    "def Federalist_report(words=trimDict):\n",
    "    if (len(words)<10):\n",
    "        print(words)\n",
    "    else:\n",
    "        temp = words[:9]\n",
    "        temp.append('...')\n",
    "        print(temp)\n",
    "    print(str(check_accuracy(words)[0])+'% accuracy')\n",
    "    madison = hamilton = 0\n",
    "    for a in disputedDicts:\n",
    "        if (NB_federalist_predict(a,words)=='madison'):\n",
    "            madison+=1\n",
    "        else:\n",
    "            hamilton+=1\n",
    "    print(\"disputed papers: madison:\"+str(madison)+\n",
    "          ', hamilton:'+str(hamilton)+'\\n')\n",
    "    \n",
    "Federalist_report(interesting)\n",
    "Federalist_report(['although','composing','involves',\n",
    "         'confederation','upon'])\n",
    "Federalist_report(['although','obviated','composing',\n",
    "         'whilst','consequently','upon'])\n",
    "Federalist_report(['against','within','inhabitants',\n",
    "         'whilst','powers','upon','while'])\n",
    "Federalist_report(['against','upon','whilst',\n",
    "         'inhabitants','within'])\n",
    "Federalist_report(['against','within','inhabitants',\n",
    "         'whilst','upon'])\n",
    "Federalist_report(['against','while','whilst','upon','on'])\n",
    "Federalist_report(['concurrent','upon','on',\n",
    "         'very','natural'])\n",
    "Federalist_report(['while','upon','on','inconveniency'])"
   ]
  },
  {
   "cell_type": "code",
   "execution_count": null,
   "metadata": {},
   "outputs": [],
   "source": []
  },
  {
   "cell_type": "code",
   "execution_count": null,
   "metadata": {},
   "outputs": [],
   "source": []
  }
 ],
 "metadata": {
  "kernelspec": {
   "display_name": "Python 3",
   "language": "python",
   "name": "python3"
  },
  "language_info": {
   "codemirror_mode": {
    "name": "ipython",
    "version": 3
   },
   "file_extension": ".py",
   "mimetype": "text/x-python",
   "name": "python",
   "nbconvert_exporter": "python",
   "pygments_lexer": "ipython3",
   "version": "3.8.5"
  }
 },
 "nbformat": 4,
 "nbformat_minor": 4
}
