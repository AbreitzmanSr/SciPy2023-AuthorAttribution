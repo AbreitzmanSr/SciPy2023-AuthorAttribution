{
 "cells": [
  {
   "cell_type": "markdown",
   "metadata": {},
   "source": [
    "## Breitzman 5/14/2023\n",
    "### Run a bunch of models on Madison and Hamilton Federalist Papers to Predict Disputed Papers\n"
   ]
  },
  {
   "cell_type": "code",
   "execution_count": 1,
   "metadata": {},
   "outputs": [],
   "source": [
    "import sklearn\n",
    "from sklearn.feature_extraction.text import TfidfVectorizer\n",
    "from sklearn.linear_model import LogisticRegression\n",
    "from sklearn.ensemble import RandomForestClassifier\n",
    "from sklearn.ensemble import AdaBoostClassifier\n",
    "from sklearn.svm import LinearSVC\n",
    "from sklearn.naive_bayes import MultinomialNB,ComplementNB,BernoulliNB \n",
    "from sklearn.svm import SVC\n",
    "from sklearn.neighbors import KNeighborsClassifier\n",
    "from sklearn.tree import DecisionTreeClassifier\n",
    "from sklearn.neural_network import MLPClassifier\n",
    "from sklearn.model_selection import cross_val_score"
   ]
  },
  {
   "cell_type": "code",
   "execution_count": 2,
   "metadata": {},
   "outputs": [],
   "source": [
    "import pickle\n",
    "with open('hamilton.pik', 'rb') as f:\n",
    "    hamilton = pickle.load(f)\n",
    "    \n",
    "with open('madison.pik', 'rb') as f:\n",
    "    madison = pickle.load(f)   \n",
    "    \n",
    "with open('disputed.pik', 'rb') as f:\n",
    "    disputed = pickle.load(f)"
   ]
  },
  {
   "cell_type": "code",
   "execution_count": 3,
   "metadata": {},
   "outputs": [],
   "source": [
    "train = []\n",
    "test = []\n",
    "\n",
    "for i in range(len(hamilton)):\n",
    "    x = hamilton[i]\n",
    "    train.append([x[0],'h',x[1][0].strip().lower()])\n",
    "\n",
    "for i in range(len(madison)):\n",
    "    x = madison[i]\n",
    "    train.append([x[0],'m',x[1][0].strip().lower()])    \n",
    "    \n",
    "for i in range(len(disputed)):\n",
    "    x = disputed[i]\n",
    "    test.append([x[0],x[1][0].strip().lower()]) \n"
   ]
  },
  {
   "cell_type": "code",
   "execution_count": 4,
   "metadata": {},
   "outputs": [
    {
     "name": "stdout",
     "output_type": "stream",
     "text": [
      "65 12\n"
     ]
    }
   ],
   "source": [
    "print(len(train),len(test))"
   ]
  },
  {
   "cell_type": "code",
   "execution_count": 5,
   "metadata": {},
   "outputs": [],
   "source": [
    "import pandas as pd\n",
    "train_df = pd.DataFrame(train, columns=['id', 'author', 'text'])\n",
    "train_df['id'] = pd.to_numeric(train_df['id'])\n"
   ]
  },
  {
   "cell_type": "code",
   "execution_count": 6,
   "metadata": {},
   "outputs": [],
   "source": [
    "X = train_df['text']\n",
    "y = train_df['author']"
   ]
  },
  {
   "cell_type": "code",
   "execution_count": 7,
   "metadata": {},
   "outputs": [],
   "source": [
    "test_df = pd.DataFrame(test, columns=['id', 'text'])\n",
    "test_df['id'] = pd.to_numeric(test_df['id'])\n"
   ]
  },
  {
   "cell_type": "code",
   "execution_count": 8,
   "metadata": {},
   "outputs": [],
   "source": [
    "test_df['text'] = test_df['text'].str.lower().str.strip()\n",
    "X_test = test_df['text']"
   ]
  },
  {
   "cell_type": "code",
   "execution_count": 9,
   "metadata": {},
   "outputs": [],
   "source": [
    "def mPercent(results):\n",
    " mcount = 0\n",
    " tcount = 0\n",
    " for a in results:\n",
    "    if (a == 'm'):\n",
    "        mcount+=1\n",
    "    tcount+=1\n",
    " print('% Disputed attributed to Madison:',100.0*mcount/tcount)\n",
    " print()"
   ]
  },
  {
   "cell_type": "code",
   "execution_count": 10,
   "metadata": {},
   "outputs": [
    {
     "name": "stdout",
     "output_type": "stream",
     "text": [
      "KNeighborsClassifier fold: 0 accuracy: 1.0\n",
      "KNeighborsClassifier fold: 1 accuracy: 1.0\n",
      "KNeighborsClassifier fold: 2 accuracy: 1.0\n",
      "KNeighborsClassifier fold: 3 accuracy: 1.0\n",
      "KNeighborsClassifier fold: 4 accuracy: 1.0\n",
      "KNeighborsClassifier avg accuracy: 1.0\n",
      "% Disputed attributed to Madison: 100.0\n",
      "\n",
      "DecisionTreeClassifier fold: 0 accuracy: 1.0\n",
      "DecisionTreeClassifier fold: 1 accuracy: 0.846\n",
      "DecisionTreeClassifier fold: 2 accuracy: 1.0\n",
      "DecisionTreeClassifier fold: 3 accuracy: 1.0\n",
      "DecisionTreeClassifier fold: 4 accuracy: 1.0\n",
      "DecisionTreeClassifier avg accuracy: 0.969\n",
      "% Disputed attributed to Madison: 100.0\n",
      "\n",
      "RandomForestClassifier fold: 0 accuracy: 1.0\n",
      "RandomForestClassifier fold: 1 accuracy: 0.846\n",
      "RandomForestClassifier fold: 2 accuracy: 1.0\n",
      "RandomForestClassifier fold: 3 accuracy: 1.0\n",
      "RandomForestClassifier fold: 4 accuracy: 1.0\n",
      "RandomForestClassifier avg accuracy: 0.969\n",
      "% Disputed attributed to Madison: 100.0\n",
      "\n",
      "LinearSVC fold: 0 accuracy: 1.0\n",
      "LinearSVC fold: 1 accuracy: 1.0\n",
      "LinearSVC fold: 2 accuracy: 1.0\n",
      "LinearSVC fold: 3 accuracy: 1.0\n",
      "LinearSVC fold: 4 accuracy: 1.0\n",
      "LinearSVC avg accuracy: 1.0\n",
      "% Disputed attributed to Madison: 100.0\n",
      "\n",
      "SVC fold: 0 accuracy: 1.0\n",
      "SVC fold: 1 accuracy: 1.0\n",
      "SVC fold: 2 accuracy: 1.0\n",
      "SVC fold: 3 accuracy: 1.0\n",
      "SVC fold: 4 accuracy: 1.0\n",
      "SVC avg accuracy: 1.0\n",
      "% Disputed attributed to Madison: 100.0\n",
      "\n",
      "ComplementNB fold: 0 accuracy: 0.923\n",
      "ComplementNB fold: 1 accuracy: 1.0\n",
      "ComplementNB fold: 2 accuracy: 1.0\n",
      "ComplementNB fold: 3 accuracy: 1.0\n",
      "ComplementNB fold: 4 accuracy: 1.0\n",
      "ComplementNB avg accuracy: 0.984\n",
      "% Disputed attributed to Madison: 100.0\n",
      "\n",
      "AdaBoostClassifier fold: 0 accuracy: 1.0\n",
      "AdaBoostClassifier fold: 1 accuracy: 0.846\n",
      "AdaBoostClassifier fold: 2 accuracy: 1.0\n",
      "AdaBoostClassifier fold: 3 accuracy: 1.0\n",
      "AdaBoostClassifier fold: 4 accuracy: 1.0\n",
      "AdaBoostClassifier avg accuracy: 0.969\n",
      "% Disputed attributed to Madison: 100.0\n",
      "\n"
     ]
    }
   ],
   "source": [
    "\"\"\"\n",
    "Build and test multiple models via SKlearn.\n",
    "X is a dataframe consisting of known Hamilton and Madison papers.\n",
    "y is a data frameconsisting of author labels.\n",
    "X_test is a dataframe consisting of disputed\n",
    "papers\n",
    "\"\"\"\n",
    "\n",
    "smallVocab5 = ['against','within','inhabitants','whilst','upon']\n",
    "tfidf = sklearn.feature_extraction.text.TfidfVectorizer(analyzer=\"word\",\n",
    "                                                        binary=False,\n",
    "                                                        min_df=2,\n",
    "                                                        vocabulary=smallVocab5)\n",
    "\n",
    "X_transformed = tfidf.fit_transform(X)\n",
    "lb = sklearn.preprocessing.LabelEncoder()\n",
    "y_transformed = lb.fit_transform(y)\n",
    "X_test_transformed = tfidf.transform(X_test)\n",
    "\n",
    "models = [\n",
    "  KNeighborsClassifier(3),\n",
    "  DecisionTreeClassifier(max_depth=5),\n",
    "  RandomForestClassifier(n_estimators=25,max_depth=3),\n",
    "  LinearSVC(),\n",
    "  SVC(gamma=2, C=1),\n",
    "  ComplementNB(),\n",
    "  AdaBoostClassifier()\n",
    "]\n",
    "CV = 5\n",
    "cv_df = pd.DataFrame(index=range(CV * len(models)))\n",
    "for model in models:\n",
    "  model_name = model.__class__.__name__\n",
    "  accuracies = cross_val_score(model, X_transformed,y_transformed,scoring='accuracy',cv=CV)\n",
    "  avgAccur = 0\n",
    "  for fold_idx, accuracy in enumerate(accuracies):\n",
    "    print(model_name,\"fold:\",fold_idx,\"accuracy:\",str(accuracy)[:5])\n",
    "  print(model_name,\"avg accuracy:\",str(accuracies.mean())[:5])\n",
    "  model.fit(X_transformed, y_transformed)\n",
    "  y_final_predicted = model.predict(X_test_transformed)\n",
    "  y_final_predicted_labeled =lb.inverse_transform(y_final_predicted)\n",
    "  mPercent(y_final_predicted_labeled)\n"
   ]
  },
  {
   "cell_type": "code",
   "execution_count": null,
   "metadata": {},
   "outputs": [],
   "source": []
  }
 ],
 "metadata": {
  "kernelspec": {
   "display_name": "Python 3",
   "language": "python",
   "name": "python3"
  },
  "language_info": {
   "codemirror_mode": {
    "name": "ipython",
    "version": 3
   },
   "file_extension": ".py",
   "mimetype": "text/x-python",
   "name": "python",
   "nbconvert_exporter": "python",
   "pygments_lexer": "ipython3",
   "version": "3.8.5"
  }
 },
 "nbformat": 4,
 "nbformat_minor": 4
}
