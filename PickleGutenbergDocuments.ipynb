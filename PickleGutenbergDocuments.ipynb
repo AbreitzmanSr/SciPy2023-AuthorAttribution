{
 "cells": [
  {
   "cell_type": "markdown",
   "metadata": {},
   "source": [
    "### Get Federalist Papers and Pickle.\n",
    "### Repeat for Little Women\n",
    "### Repeat for Moby Dick\n",
    "\n",
    "#### Breitzman 7/4/2023"
   ]
  },
  {
   "cell_type": "code",
   "execution_count": 1,
   "metadata": {},
   "outputs": [],
   "source": [
    "#Get Federalist Papers\n",
    "from urllib import request\n",
    "url = \"https://www.gutenberg.org/cache/epub/1404/pg1404.txt\"\n",
    "\n",
    "response = request.urlopen(url)\n",
    "raw = response.read()\n",
    "text = raw.decode(\"utf-8-sig\")"
   ]
  },
  {
   "cell_type": "code",
   "execution_count": 2,
   "metadata": {},
   "outputs": [],
   "source": [
    "#slicing routines\n",
    "def left(s, amount):\n",
    "    return s[:amount]\n",
    "\n",
    "def right(s, amount):\n",
    "    return s[-amount:]"
   ]
  },
  {
   "cell_type": "code",
   "execution_count": 4,
   "metadata": {},
   "outputs": [],
   "source": [
    "#replace multiple spaces with single space\n",
    "import re\n",
    "text = re.sub(\"\\s+\", \" \", text)"
   ]
  },
  {
   "cell_type": "code",
   "execution_count": 8,
   "metadata": {},
   "outputs": [],
   "source": [
    "#kill front matter\n",
    "text = right(text,len(text)-text.find('FEDERALIST No.'))"
   ]
  },
  {
   "cell_type": "code",
   "execution_count": 9,
   "metadata": {},
   "outputs": [],
   "source": [
    "#kill back matter\n",
    "text = left(text,text.find('*** END OF THE PROJECT GUTENBERG'))\n"
   ]
  },
  {
   "cell_type": "code",
   "execution_count": 10,
   "metadata": {},
   "outputs": [],
   "source": [
    "#Probably not necessary but...\n",
    "#remove Mr. and Mrs. to help the sentence tokenizer later\n",
    "text = re.sub('Mrs\\.','Mrs',text)\n",
    "text = re.sub('Mr\\.','Mr',text)\n"
   ]
  },
  {
   "cell_type": "code",
   "execution_count": 11,
   "metadata": {},
   "outputs": [],
   "source": [
    "#Break Federalist papers up into individual texts\n",
    "FedChapters = []\n",
    "text5 = text\n",
    "i = text5.find('FEDERALIST No.')\n",
    "while(i >= 0):\n",
    "    FedChapters.append((left(text5,i)).strip())\n",
    "    text5 = right(text5,len(text5)-(i+14))\n",
    "    i = text5.find('FEDERALIST No.')\n",
    "    \n",
    "FedChapters.append(text5.strip())\n"
   ]
  },
  {
   "cell_type": "code",
   "execution_count": 12,
   "metadata": {},
   "outputs": [],
   "source": [
    "#returns the main text of a Federalist paper.\n",
    "def getFedText(s):\n",
    "  if (len(s)>0):\n",
    "    t = s + ' PUBLIUS' #in case it's not there (but in most cases it is)\n",
    "    i = t.find('PUBLIUS')\n",
    "    t = left(t,i)\n",
    "    i = t.find('State of New York')\n",
    "    t = right(t,len(t)-(i+19))\n",
    "    return t.strip()\n",
    "  else:\n",
    "    return \"\""
   ]
  },
  {
   "cell_type": "code",
   "execution_count": 13,
   "metadata": {},
   "outputs": [],
   "source": [
    "#Store Hamilton's Federalist papers in a Hamilton list, Madison's in a Madison list, etc. for Jay, joint, disputed papers\n",
    "hamilton = []\n",
    "jay = []\n",
    "madison = []\n",
    "joint = []\n",
    "disputed = []\n",
    "for i in range(len(FedChapters)):\n",
    "    if (i in {2,3,4,5,64}):\n",
    "        jay.append([i,[getFedText(FedChapters[i])]])\n",
    "    else:\n",
    "        if (i in {18,19,20}):\n",
    "            joint.append([i,[getFedText(FedChapters[i])]])\n",
    "        else:\n",
    "            if (i in {49,50,51,52,53,54,55,56,57,58,62,63}):\n",
    "                disputed.append([i,[getFedText(FedChapters[i])]])\n",
    "            else:\n",
    "                if (i in {10,14,37,38,39,40,41,42,43,44,45,46,47,48}):\n",
    "                    madison.append([i,[getFedText(FedChapters[i])]])\n",
    "                else:\n",
    "                    if (i > 0):\n",
    "                        hamilton.append([i,[getFedText(FedChapters[i])]])"
   ]
  },
  {
   "cell_type": "code",
   "execution_count": 25,
   "metadata": {},
   "outputs": [
    {
     "name": "stdout",
     "output_type": "stream",
     "text": [
      "Fed.No.2: WHEN the people of America reflect ...\n",
      "Fed.No.3: IT IS not a new observation that th...\n",
      "Fed.No.4: MY LAST paper assigned several reas...\n",
      "Fed.No.5: QUEEN ANNE, in her letter of the 1s...\n",
      "Fed.No.64: IT IS a just and not a new observat...\n"
     ]
    }
   ],
   "source": [
    "for a in jay:\n",
    " print('Fed.No.'+str(a[0])+': '+a[1][0][:35]+'...')\n",
    "        \n"
   ]
  },
  {
   "cell_type": "code",
   "execution_count": 25,
   "metadata": {},
   "outputs": [],
   "source": [
    "#pickle each author's Federalist Papers\n",
    "import pickle\n",
    "with open('hamilton.pik', 'wb') as f:\n",
    "  pickle.dump(hamilton,f)\n",
    "\n",
    "with open('madison.pik', 'wb') as f:\n",
    "  pickle.dump(madison,f)\n",
    "\n",
    "with open('jay.pik', 'wb') as f:\n",
    "  pickle.dump(jay,f)\n",
    "\n",
    "with open('joint.pik', 'wb') as f:\n",
    "  pickle.dump(joint,f)\n",
    "\n",
    "with open('disputed.pik', 'wb') as f:\n",
    "  pickle.dump(disputed,f)\n",
    "\n"
   ]
  },
  {
   "cell_type": "code",
   "execution_count": 5,
   "metadata": {},
   "outputs": [],
   "source": [
    "#test an arbitrary Federalist paper from Madison\n",
    "with open('madison.pik', 'rb') as f:\n",
    "    madison5 = pickle.load(f)"
   ]
  },
  {
   "cell_type": "code",
   "execution_count": 7,
   "metadata": {},
   "outputs": [
    {
     "name": "stdout",
     "output_type": "stream",
     "text": [
      "THE SECOND point to be examined is, whether the convention were authorized to frame and propose this\n"
     ]
    }
   ],
   "source": [
    "print(left(madison5[5][1][0],100))"
   ]
  },
  {
   "cell_type": "code",
   "execution_count": 31,
   "metadata": {},
   "outputs": [],
   "source": [
    "#get Moby-Dick\n",
    "url = \"https://www.gutenberg.org/files/2701/2701-0.txt\"\n",
    "\n",
    "response = request.urlopen(url)\n",
    "raw = response.read()\n",
    "text = raw.decode(\"utf-8-sig\")"
   ]
  },
  {
   "cell_type": "code",
   "execution_count": 34,
   "metadata": {},
   "outputs": [],
   "source": [
    "text = re.sub(\"\\s+\", \" \", text)"
   ]
  },
  {
   "cell_type": "code",
   "execution_count": 48,
   "metadata": {},
   "outputs": [],
   "source": [
    "#kill front matter\n",
    "text = right(text,len(text)-10000)\n",
    "i = text.find('CHAPTER 1. Loomings.')\n",
    "text = right(text,len(text)-i)"
   ]
  },
  {
   "cell_type": "code",
   "execution_count": 51,
   "metadata": {},
   "outputs": [],
   "source": [
    "#kill back matter\n",
    "text = left(text,text.find('*** END OF THE PROJECT GUTENBERG'))"
   ]
  },
  {
   "cell_type": "code",
   "execution_count": 53,
   "metadata": {},
   "outputs": [],
   "source": [
    "#pickle Moby Dick text.\n",
    "mobyDick = [text]\n",
    "with open('mobyDick.pik', 'wb') as f:\n",
    "  pickle.dump(mobyDick,f)"
   ]
  },
  {
   "cell_type": "code",
   "execution_count": 24,
   "metadata": {},
   "outputs": [],
   "source": [
    "#Get \"Little Women\"\n",
    "url = \"https://www.gutenberg.org/cache/epub/37106/pg37106.txt\"\n",
    "\n",
    "response = request.urlopen(url)\n",
    "raw = response.read()\n",
    "text = raw.decode(\"utf-8-sig\")    "
   ]
  },
  {
   "cell_type": "code",
   "execution_count": 25,
   "metadata": {},
   "outputs": [],
   "source": [
    "text = re.sub(\"\\s+\", \" \", text)"
   ]
  },
  {
   "cell_type": "code",
   "execution_count": 26,
   "metadata": {},
   "outputs": [
    {
     "name": "stdout",
     "output_type": "stream",
     "text": [
      "9592\n"
     ]
    }
   ],
   "source": [
    "i = text.find('] I. PLAYING PILGRIMS.')\n",
    "print(i)"
   ]
  },
  {
   "cell_type": "code",
   "execution_count": 27,
   "metadata": {},
   "outputs": [],
   "source": [
    "#kill front matter\n",
    "text = right(text,len(text)-i-2)"
   ]
  },
  {
   "cell_type": "code",
   "execution_count": 28,
   "metadata": {},
   "outputs": [
    {
     "data": {
      "text/plain": [
       "'I. PLAYING PILGRIMS. \"Christmas won\\'t be Christmas without any presents,\" grumbled Jo, lying on the '"
      ]
     },
     "execution_count": 28,
     "metadata": {},
     "output_type": "execute_result"
    }
   ],
   "source": [
    "left(text,100)"
   ]
  },
  {
   "cell_type": "code",
   "execution_count": 29,
   "metadata": {},
   "outputs": [
    {
     "data": {
      "text/plain": [
       "1056128"
      ]
     },
     "execution_count": 29,
     "metadata": {},
     "output_type": "execute_result"
    }
   ],
   "source": [
    "len(text)"
   ]
  },
  {
   "cell_type": "code",
   "execution_count": 30,
   "metadata": {},
   "outputs": [],
   "source": [
    "#kill back matter\n",
    "text = left(text,text.find('*** END OF THE PROJECT GUTENBERG'))"
   ]
  },
  {
   "cell_type": "code",
   "execution_count": 31,
   "metadata": {},
   "outputs": [
    {
     "data": {
      "text/plain": [
       "1037937"
      ]
     },
     "execution_count": 31,
     "metadata": {},
     "output_type": "execute_result"
    }
   ],
   "source": [
    "len(text)"
   ]
  },
  {
   "cell_type": "code",
   "execution_count": 33,
   "metadata": {},
   "outputs": [],
   "source": [
    "import pickle\n",
    "#pickle LittleWomen text.\n",
    "LittleWomen = [text]\n",
    "with open('LittleWomen.pik', 'wb') as f:\n",
    "  pickle.dump(LittleWomen,f)"
   ]
  },
  {
   "cell_type": "code",
   "execution_count": 34,
   "metadata": {},
   "outputs": [],
   "source": [
    "with open('LittleWomen.pik', 'rb') as f:\n",
    "    little5 = pickle.load(f)"
   ]
  },
  {
   "cell_type": "code",
   "execution_count": 57,
   "metadata": {},
   "outputs": [
    {
     "data": {
      "text/plain": [
       "[9, 3]"
      ]
     },
     "execution_count": 57,
     "metadata": {},
     "output_type": "execute_result"
    }
   ],
   "source": [
    "from nltk.tokenize import sent_tokenize\n",
    "from nltk.tokenize import word_tokenize\n",
    "\n",
    "def sentence_stats(document):\n",
    "    sent_stats = []\n",
    "    sentences = sent_tokenize(document)\n",
    "    for sentence in sentences:\n",
    "        words = word_tokenize(sentence)\n",
    "        sent_stats.append(len(words)-1)\n",
    "    return(sent_stats)\n",
    "\n",
    "sentence_stats(\"The quick brown fox jumped over the lazy dog. A short sentence.\")\n"
   ]
  },
  {
   "cell_type": "code",
   "execution_count": 58,
   "metadata": {},
   "outputs": [
    {
     "name": "stdout",
     "output_type": "stream",
     "text": [
      "['The', 'quick', 'brown', 'fox', 'jumped', 'over', 'the', 'lazy', 'dog', '.']\n",
      "['A', 'short', 'sentence', '.']\n"
     ]
    }
   ],
   "source": [
    "from nltk.tokenize import sent_tokenize\n",
    "from nltk.tokenize import word_tokenize\n",
    "\n",
    "text_2sentences = \"The quick brown fox jumped over the lazy dog. A short sentence.\"\n",
    "\n",
    "sentences = sent_tokenize(text_2sentences)\n",
    "\n",
    "for x in sentences:\n",
    "    print(word_tokenize(x))"
   ]
  },
  {
   "cell_type": "code",
   "execution_count": 36,
   "metadata": {},
   "outputs": [],
   "source": [
    "from nltk.tokenize import sent_tokenize\n",
    "from nltk.tokenize import word_tokenize\n",
    "\n",
    "\n",
    "def wc(str1):\n",
    "    words = word_tokenize(str1)\n",
    "    return(len(words))"
   ]
  },
  {
   "cell_type": "code",
   "execution_count": 39,
   "metadata": {},
   "outputs": [],
   "source": [
    "hamiltonSentLengths = []\n",
    "for x in hamilton:\n",
    "    sents = sent_tokenize(x[1][0])\n",
    "    for a in sents:\n",
    "        hamiltonSentLengths.append(wc(a))\n",
    "        \n",
    "madisonSentLengths = []\n",
    "for x in madison:\n",
    "    sents = sent_tokenize(x[1][0])\n",
    "    for a in sents:\n",
    "        madisonSentLengths.append(wc(a))\n",
    "        \n",
    "jaySentLengths = []\n",
    "for x in jay:\n",
    "    sents = sent_tokenize(x[1][0])\n",
    "    for a in sents:\n",
    "        jaySentLengths.append(wc(a))\n",
    "\n",
    "disputedSentLengths = []\n",
    "for x in disputed:\n",
    "    sents = sent_tokenize(x[1][0])\n",
    "    for a in sents:\n",
    "        disputedSentLengths.append(wc(a))"
   ]
  },
  {
   "cell_type": "code",
   "execution_count": 40,
   "metadata": {},
   "outputs": [
    {
     "name": "stdout",
     "output_type": "stream",
     "text": [
      "3278 [30, 48, 66, 60, 29, 31, 16, 49, 109, 16]\n",
      "1160 [30, 28, 34, 52, 54, 83, 32, 93, 26, 58]\n",
      "215 [60, 45, 72, 47, 42, 32, 52, 39, 32, 58]\n",
      "775 [65, 57, 57, 58, 91, 90, 42, 33, 24, 53]\n"
     ]
    }
   ],
   "source": [
    "print(len(hamiltonSentLengths),hamiltonSentLengths[:10])\n",
    "print(len(madisonSentLengths),madisonSentLengths[:10])\n",
    "print(len(jaySentLengths),jaySentLengths[:10])\n",
    "print(len(disputedSentLengths),disputedSentLengths[:10])"
   ]
  },
  {
   "cell_type": "code",
   "execution_count": 41,
   "metadata": {},
   "outputs": [],
   "source": [
    "mobySentLengths = []\n",
    "for x in mobyDick:\n",
    "    sents = sent_tokenize(x)\n",
    "    for a in sents:\n",
    "        mobySentLengths.append(wc(a))"
   ]
  },
  {
   "cell_type": "code",
   "execution_count": 42,
   "metadata": {},
   "outputs": [
    {
     "name": "stdout",
     "output_type": "stream",
     "text": [
      "8606 [3, 2, 4, 41, 16, 97, 9, 18, 7, 30]\n"
     ]
    }
   ],
   "source": [
    "print(len(mobySentLengths),mobySentLengths[:10])"
   ]
  },
  {
   "cell_type": "code",
   "execution_count": 45,
   "metadata": {},
   "outputs": [],
   "source": [
    "little5SentLengths = []\n",
    "for x in little5:\n",
    "    sents = sent_tokenize(x)\n",
    "    for a in sents:\n",
    "        little5SentLengths.append(wc(a))"
   ]
  },
  {
   "cell_type": "code",
   "execution_count": 46,
   "metadata": {},
   "outputs": [
    {
     "name": "stdout",
     "output_type": "stream",
     "text": [
      "9097 [2, 3, 19, 10, 10, 35, 20, 42, 26, 64]\n"
     ]
    }
   ],
   "source": [
    "print(len(little5SentLengths),little5SentLengths[:10])"
   ]
  },
  {
   "cell_type": "code",
   "execution_count": 47,
   "metadata": {},
   "outputs": [],
   "source": [
    "def cleanSentArray(x):\n",
    "    y = []\n",
    "    for xx in x:\n",
    "        if (xx <= 3):\n",
    "            pass\n",
    "        else:\n",
    "            if (xx > 100):\n",
    "                y.append(100)\n",
    "            else:\n",
    "                y.append(xx)\n",
    "    return(y)"
   ]
  },
  {
   "cell_type": "code",
   "execution_count": 48,
   "metadata": {},
   "outputs": [],
   "source": [
    "hamiltonSentLengths = cleanSentArray(hamiltonSentLengths)\n",
    "madisonSentLengths = cleanSentArray(madisonSentLengths)\n",
    "jaySentLengths = cleanSentArray(jaySentLengths)\n",
    "mobySentLengths = cleanSentArray(mobySentLengths)\n",
    "little5SentLengths = cleanSentArray(little5SentLengths)"
   ]
  },
  {
   "cell_type": "code",
   "execution_count": 50,
   "metadata": {},
   "outputs": [
    {
     "data": {
      "image/png": "[encoded data removed]",
      "text/plain": [
       "<Figure size 432x288 with 1 Axes>"
      ]
     },
     "metadata": {
      "needs_background": "light"
     },
     "output_type": "display_data"
    }
   ],
   "source": [
    "import matplotlib.pyplot as plt\n",
    "plt.boxplot([hamiltonSentLengths,madisonSentLengths,jaySentLengths,mobySentLengths,little5SentLengths],vert=True)\n",
    "plt.ylabel(\"Words Per Sentence\")\n",
    "#plt.xlabel(\"Federalist Paper Authors\")\n",
    "plt.xticks([1,2,3,4,5],['Hamilton-Fed','Madison-Fed','Jay-Fed','Moby-Dick','Little-Women'])\n",
    "plt.title(\"Boxplots of Average Sentence Length Distributions\")\n",
    "plt.show()"
   ]
  },
  {
   "cell_type": "code",
   "execution_count": 52,
   "metadata": {},
   "outputs": [
    {
     "data": {
      "image/png": "[encoded data removed]",
      "text/plain": [
       "<Figure size 432x288 with 1 Axes>"
      ]
     },
     "metadata": {
      "needs_background": "light"
     },
     "output_type": "display_data"
    }
   ],
   "source": [
    "import matplotlib.pyplot as plt\n",
    "plt.boxplot([hamiltonSentLengths,madisonSentLengths,jaySentLengths],vert=True)\n",
    "plt.ylabel(\"Words Per Sentence\")\n",
    "plt.xlabel(\"Federalist Paper Authors\")\n",
    "plt.xticks([1,2,3],['Hamilton','Madison','Jay'])\n",
    "plt.title(\"Boxplots of Average Sentence Length Distributions\")\n",
    "plt.show()"
   ]
  },
  {
   "cell_type": "code",
   "execution_count": 101,
   "metadata": {},
   "outputs": [
    {
     "name": "stdout",
     "output_type": "stream",
     "text": [
      "hamilton avg word length: 4.423035182065569\n",
      "madison avg word length: 4.493796640713444\n",
      "jay avg word length: 4.467439115974681\n",
      "disputed avg word length: 4.482459096184806\n",
      "Tale-of-Two-Cities avg word length: 3.7006302521008405\n",
      "Moby-Dick avg word length: 3.9158383220380273\n"
     ]
    }
   ],
   "source": [
    "chars=0\n",
    "words=0\n",
    "for x in hamilton:\n",
    "    a = x[1][0].strip()\n",
    "    words1 = word_tokenize(a)\n",
    "    for w in words1:\n",
    "      chars+=len(w)\n",
    "    words+=len(words1)\n",
    "print('hamilton avg word length:',chars/words)\n",
    "    \n",
    "chars=0\n",
    "words=0\n",
    "for x in madison:\n",
    "    a = x[1][0].strip()\n",
    "    words1 = word_tokenize(a)\n",
    "    for w in words1:\n",
    "      chars+=len(w)\n",
    "    words+=len(words1)\n",
    "print('madison avg word length:',chars/words)\n",
    "    \n",
    "chars=0\n",
    "words=0\n",
    "for x in jay:\n",
    "    a = x[1][0].strip()\n",
    "    words1 = word_tokenize(a)\n",
    "    for w in words1:\n",
    "      chars+=len(w)\n",
    "    words+=len(words1)\n",
    "print('jay avg word length:',chars/words)\n",
    "    \n",
    "chars=0\n",
    "words=0\n",
    "for x in disputed:\n",
    "    a = x[1][0].strip()\n",
    "    words1 = word_tokenize(a)\n",
    "    for w in words1:\n",
    "      chars+=len(w)\n",
    "    words+=len(words1)\n",
    "print('disputed avg word length:',chars/words)\n",
    "    \n",
    "words=0\n",
    "chars=0\n",
    "for x in TaleOfTwoCities:\n",
    "    a = x.strip()\n",
    "    words1 = word_tokenize(a)\n",
    "    for w in words1:\n",
    "      chars+=len(w)\n",
    "    words+=len(words1)\n",
    "print('Tale-of-Two-Cities avg word length:',chars/words)\n",
    "    \n",
    "words=0\n",
    "chars=0\n",
    "for x in mobyDick:\n",
    "    a = x.strip()\n",
    "    words1 = word_tokenize(a)\n",
    "    for w in words1:\n",
    "      chars+=len(w)\n",
    "    words+=len(words1)\n",
    "print('Moby-Dick avg word length:',chars/words)"
   ]
  },
  {
   "cell_type": "code",
   "execution_count": null,
   "metadata": {},
   "outputs": [],
   "source": []
  }
 ],
 "metadata": {
  "kernelspec": {
   "display_name": "Python 3",
   "language": "python",
   "name": "python3"
  },
  "language_info": {
   "codemirror_mode": {
    "name": "ipython",
    "version": 3
   },
   "file_extension": ".py",
   "mimetype": "text/x-python",
   "name": "python",
   "nbconvert_exporter": "python",
   "pygments_lexer": "ipython3",
   "version": "3.8.5"
  }
 },
 "nbformat": 4,
 "nbformat_minor": 4
}
